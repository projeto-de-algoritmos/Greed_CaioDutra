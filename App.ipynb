{
 "cells": [
  {
   "cell_type": "code",
   "execution_count": 3,
   "metadata": {},
   "outputs": [],
   "source": [
    "from collections import defaultdict\n",
    "import ipywidgets as widgets"
   ]
  },
  {
   "cell_type": "code",
   "execution_count": 14,
   "metadata": {},
   "outputs": [],
   "source": [
    "def policeThief(arr, k): \n",
    "    i = 0\n",
    "    l = 0\n",
    "    r = 0\n",
    "    res = 0\n",
    "    thi = [] \n",
    "    pol = [] \n",
    "    n = len(arr)\n",
    "\n",
    "    while i < n: \n",
    "        if arr[i] == 'P': \n",
    "            pol.append(i) \n",
    "        elif arr[i] == 'T': \n",
    "            thi.append(i) \n",
    "        i += 1\n",
    "  \n",
    "    while l < len(thi) and r < len(pol): \n",
    "        if (abs( thi[l] - pol[r] ) <= k): \n",
    "            res += 1\n",
    "            l += 1\n",
    "            r += 1\n",
    "        elif thi[l] < pol[r]: \n",
    "            l += 1\n",
    "        else: \n",
    "            r += 1\n",
    "  \n",
    "    return res"
   ]
  },
  {
   "cell_type": "code",
   "execution_count": 15,
   "metadata": {},
   "outputs": [],
   "source": [
    "arrays_ = defaultdict(list)\n",
    "\n",
    "arrays_[1].append(['P', 'T', 'T', 'P', 'T'])\n",
    "arrays_[1].append(2)\n",
    "\n",
    "arrays_[2].append(['T', 'T', 'P', 'P', 'T', 'P'])\n",
    "arrays_[2].append(2)\n",
    "\n",
    "arrays_[3].append(['P', 'T', 'P', 'T', 'T', 'P'])\n",
    "arrays_[3].append(3)\n",
    "\n",
    "# x = [print(\"Número máximo de ladrões presos:\",policeThief(item[1][0], item[1][1])) for item in arrays_.items()]"
   ]
  },
  {
   "cell_type": "code",
   "execution_count": 64,
   "metadata": {},
   "outputs": [],
   "source": [
    "from IPython.display import display\n",
    "\n",
    "thief_button = widgets.Button(\n",
    "    description='Add Thief  🦹',\n",
    "    disabled=False,\n",
    "    button_style='danger', # 'success', 'info', 'warning', 'danger' or ''\n",
    "    tooltip='Adicionar Ladrão',\n",
    "    icon='check' \n",
    ")\n",
    "police_button = widgets.Button(\n",
    "    description='Add Police 👮‍♂️',\n",
    "    disabled=False,\n",
    "    button_style='info', # 'success', 'info', 'warning', 'danger' or ''\n",
    "    tooltip='Adicionar Polícia',\n",
    "    icon='check' \n",
    ")\n",
    "\n",
    "run_button = widgets.Button(\n",
    "    description='Run ▶️',\n",
    "    disabled=False,\n",
    "    button_style='success', # 'success', 'info', 'warning', 'danger' or ''\n",
    "    tooltip='Run',\n",
    "    icon='check' \n",
    ")\n",
    "\n",
    "clear_button = widgets.Button(\n",
    "    description='Clear The Array🧹',\n",
    "    disabled=False,\n",
    "    button_style='warning', # 'success', 'info', 'warning', 'danger' or ''\n",
    "    tooltip='Clear Array',\n",
    "    icon='check' \n",
    ")\n",
    "\n",
    "array_ = []\n",
    "run_output = widgets.Output()\n",
    "array_output = widgets.Output()\n",
    "clear_output_ = widgets.Output()\n",
    "\n",
    "def on_clear_button_clicked(b):\n",
    "    array_.clear()\n",
    "    array_output.clear_output()\n",
    "    run_output.clear_output() \n",
    "    k1.value = 0\n",
    "    clear_output_.clear_output()\n",
    "    with clear_output_:\n",
    "        print(\"Array Cleaned!!\")\n",
    "\n",
    "def on_police_button_clicked(b):\n",
    "    array_.append('P')\n",
    "    with array_output:\n",
    "        print(\"Array:\", array_)\n",
    "        \n",
    "def on_thief_button_clicked(b):\n",
    "    array_.append('T')\n",
    "    with array_output:\n",
    "        print(\"Array:\", array_)\n",
    "\n",
    "def on_run_button_clicked(b):\n",
    "    with run_output:\n",
    "        print(\"Número máximo de ladrões presos:\",policeThief(array_, k1.get_interact_value()))\n",
    "        \n",
    "\n",
    "\n",
    "\n",
    "police_button.on_click(on_police_button_clicked)\n",
    "thief_button.on_click(on_thief_button_clicked)\n",
    "run_button.on_click(on_run_button_clicked)\n",
    "clear_button.on_click(on_clear_button_clicked)\n",
    "\n",
    "\n",
    "k1 = widgets.IntText()\n",
    "k2 = widgets.IntSlider(max=30)\n",
    "mylink = widgets.jslink((k1, 'value'), (k2, 'value'))\n",
    "\n",
    "\n"
   ]
  },
  {
   "cell_type": "markdown",
   "metadata": {},
   "source": [
    "### Problema Polícia e Ladrão:\n",
    "\n",
    "Dado um `array` de tamanho **n** que segue as seguintes especificações:\n",
    "\n",
    "1. Cada elemento do `array` contém um **policial** ou um **ladrão**.\n",
    "2. Cada policial pode pegar apenas um ladrão.\n",
    "3. Um policial só pode pegar um ladrão que esteja até **K** unidades de distância.\n",
    "\n",
    "O objetivo é encontrar o número máximo de ladrões que possam ser capturados.\n",
    "\n",
    "Uma abordagem de **força bruta** seria verificar todos os conjuntos de combinações de polícia e ladrão e retornar o tamanho máximo definido entre eles. Porém sua complexidade seria exponencial.\n",
    "\n",
    "Uma solução eficiente é usar um **Greed Algorithm** (Algoritmo ambicioso).<br>\n",
    "Podemos tentar: *“Para cada policial da esquerda pegue o ladrão mais próximo possível”*.<br>\n",
    "\n",
    "Uma outra abordagem seria: \n",
    "*“Para cada policial da esquerda pegar o ladrão mais distante possível”*.<br>\n",
    "\n",
    "\n",
    "Mas pensando independentemente do policial, concentrando apenas nas disposição dos elementos no `array`:\n",
    "1. Obter o menor índice de policial `p` e ladrão `t`. Fazer uma distribuição\n",
    "`if | p-t | <= k`  incrementando para o próximo `p` e `t` encontrado.\n",
    "2. Caso contrário, aumentar `min(p, t)` para o próximo `p` ou `t` encontrado.\n",
    "3. Repetir as duas etapas acima até que os próximos `p` e `t` sejam encontrados.\n",
    "4. Retornar o número de distribuições feitas.\n",
    "\n",
    "A complexidade desta abordagem é **O(n)** onde **n** é o tamanho do `array`.\n",
    "\n"
   ]
  },
  {
   "cell_type": "markdown",
   "metadata": {},
   "source": [
    "### Utilização\n",
    "\n",
    "* Para adicionar um policial, basta pressionar o botão **\"Add (P)olice 👮‍♂️\"**.\n",
    "* Para adicionar um ladrão, basta pressionar o botão **\"Add (T)hief 🦹\"**. \n",
    "\n",
    "**Obs: Os elementos serão inseridos linearmente**"
   ]
  },
  {
   "cell_type": "markdown",
   "metadata": {},
   "source": [
    "## Montando array `Police/Thief`"
   ]
  },
  {
   "cell_type": "code",
   "execution_count": 65,
   "metadata": {},
   "outputs": [],
   "source": [
    "array_output.clear_output()"
   ]
  },
  {
   "cell_type": "code",
   "execution_count": 66,
   "metadata": {},
   "outputs": [
    {
     "data": {
      "application/vnd.jupyter.widget-view+json": {
       "model_id": "190168b6d67b4e33b176dd5b5e359858",
       "version_major": 2,
       "version_minor": 0
      },
      "text/plain": [
       "Button(button_style='info', description='Add Police 👮\\u200d♂️', icon='check', style=ButtonStyle(), tooltip='Ad…"
      ]
     },
     "metadata": {},
     "output_type": "display_data"
    },
    {
     "data": {
      "application/vnd.jupyter.widget-view+json": {
       "model_id": "7e1f36c01d2244b5811888f8a1d07354",
       "version_major": 2,
       "version_minor": 0
      },
      "text/plain": [
       "Button(button_style='danger', description='Add Thief  🦹', icon='check', style=ButtonStyle(), tooltip='Adiciona…"
      ]
     },
     "metadata": {},
     "output_type": "display_data"
    },
    {
     "data": {
      "application/vnd.jupyter.widget-view+json": {
       "model_id": "b9246c74ee3148b29ca2ec2d20660276",
       "version_major": 2,
       "version_minor": 0
      },
      "text/plain": [
       "Output()"
      ]
     },
     "metadata": {},
     "output_type": "display_data"
    }
   ],
   "source": [
    "display(police_button, thief_button, array_output)\n"
   ]
  },
  {
   "cell_type": "markdown",
   "metadata": {},
   "source": [
    "## Selecionando o `k`"
   ]
  },
  {
   "cell_type": "code",
   "execution_count": 67,
   "metadata": {},
   "outputs": [
    {
     "data": {
      "application/vnd.jupyter.widget-view+json": {
       "model_id": "7b34b9754557444197aada471a9a80ae",
       "version_major": 2,
       "version_minor": 0
      },
      "text/plain": [
       "IntText(value=0)"
      ]
     },
     "metadata": {},
     "output_type": "display_data"
    },
    {
     "data": {
      "application/vnd.jupyter.widget-view+json": {
       "model_id": "ef9128249be34176aeb1cc6d0fe76e7d",
       "version_major": 2,
       "version_minor": 0
      },
      "text/plain": [
       "IntSlider(value=0, max=30)"
      ]
     },
     "metadata": {},
     "output_type": "display_data"
    }
   ],
   "source": [
    "display(k1,k2)"
   ]
  },
  {
   "cell_type": "code",
   "execution_count": 68,
   "metadata": {},
   "outputs": [
    {
     "data": {
      "application/vnd.jupyter.widget-view+json": {
       "model_id": "6925b16b5360463e99db86fe89f6dab0",
       "version_major": 2,
       "version_minor": 0
      },
      "text/plain": [
       "Button(button_style='success', description='Run ▶️', icon='check', style=ButtonStyle(), tooltip='Run')"
      ]
     },
     "metadata": {},
     "output_type": "display_data"
    },
    {
     "data": {
      "application/vnd.jupyter.widget-view+json": {
       "model_id": "543fe96877e24851a93dfa52ca84745b",
       "version_major": 2,
       "version_minor": 0
      },
      "text/plain": [
       "Output()"
      ]
     },
     "metadata": {},
     "output_type": "display_data"
    }
   ],
   "source": [
    "display(run_button,run_output)"
   ]
  },
  {
   "cell_type": "markdown",
   "metadata": {},
   "source": [
    "## Limpar array"
   ]
  },
  {
   "cell_type": "code",
   "execution_count": 69,
   "metadata": {},
   "outputs": [
    {
     "data": {
      "application/vnd.jupyter.widget-view+json": {
       "model_id": "67554a3f47ba425dbae0008fd327fa0d",
       "version_major": 2,
       "version_minor": 0
      },
      "text/plain": [
       "Button(button_style='warning', description='Clear The Array🧹', icon='check', style=ButtonStyle(), tooltip='Cle…"
      ]
     },
     "metadata": {},
     "output_type": "display_data"
    },
    {
     "data": {
      "application/vnd.jupyter.widget-view+json": {
       "model_id": "594330f3730849698c0ea05a53b0109f",
       "version_major": 2,
       "version_minor": 0
      },
      "text/plain": [
       "Output()"
      ]
     },
     "metadata": {},
     "output_type": "display_data"
    }
   ],
   "source": [
    "display(clear_button, clear_output_)"
   ]
  },
  {
   "cell_type": "code",
   "execution_count": null,
   "metadata": {},
   "outputs": [],
   "source": []
  }
 ],
 "metadata": {
  "kernelspec": {
   "display_name": "Python 3",
   "language": "python",
   "name": "python3"
  },
  "language_info": {
   "codemirror_mode": {
    "name": "ipython",
    "version": 3
   },
   "file_extension": ".py",
   "mimetype": "text/x-python",
   "name": "python",
   "nbconvert_exporter": "python",
   "pygments_lexer": "ipython3",
   "version": "3.8.5"
  }
 },
 "nbformat": 4,
 "nbformat_minor": 4
}
